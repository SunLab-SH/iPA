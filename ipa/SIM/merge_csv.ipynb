{
 "cells": [
  {
   "cell_type": "code",
   "execution_count": 4,
   "metadata": {},
   "outputs": [],
   "source": [
    "import numpy as np\n",
    "from math import *\n",
    "import csv\n",
    "import operator\n",
    "from operator import sub\n",
    "import glob\n",
    "import time\n",
    "import pandas as pd"
   ]
  },
  {
   "cell_type": "code",
   "execution_count": 2,
   "metadata": {},
   "outputs": [],
   "source": [
    "FILE_DIR = 'I:\\\\Fluorescence\\\\SIM\\\\20230425_MT-ISG+EX4\\\\Skeleton_Output\\\\'\n",
    "file_list_basal = glob.glob(f'{FILE_DIR}0+10*_Branch information.csv')\n",
    "file_list_I = glob.glob(f'{FILE_DIR}5+10*_Branch information.csv')\n",
    "file_list_II = glob.glob(f'{FILE_DIR}30+10*_Branch information.csv')\n",
    "\n",
    "file_R_list_basal = glob.glob(f'{FILE_DIR}0+10*_Results.csv')\n",
    "file_R_list_I = glob.glob(f'{FILE_DIR}5+10*_Results.csv')\n",
    "file_R_list_II = glob.glob(f'{FILE_DIR}30+10*_Results.csv')"
   ]
  },
  {
   "cell_type": "code",
   "execution_count": 7,
   "metadata": {},
   "outputs": [],
   "source": [
    "data_all = []\n",
    "data_all_R = []\n",
    "for i in range(len(file_list_basal)):\n",
    "    data =  pd.read_csv(file_list_basal[i])\n",
    "    data_R =  pd.read_csv(file_R_list_basal[i])\n",
    "    data_all.append(data)\n",
    "    data_all_R.append(data_R)\n",
    "\n",
    "data_all = pd.concat(data_all)\n",
    "data_all_R = pd.concat(data_all_R)\n",
    "data_all.to_csv(f'{FILE_DIR}0+10_Branch information.csv', index=False)\n",
    "data_all_R.to_csv(f'{FILE_DIR}0+10_Results.csv', index=False)"
   ]
  },
  {
   "cell_type": "code",
   "execution_count": 8,
   "metadata": {},
   "outputs": [],
   "source": [
    "data_all = []\n",
    "data_all_R = []\n",
    "for i in range(len(file_list_I)):\n",
    "    data =  pd.read_csv(file_list_I[i])\n",
    "    data_R =  pd.read_csv(file_R_list_I[i])\n",
    "    data_all.append(data)\n",
    "    data_all_R.append(data_R)\n",
    "\n",
    "data_all = pd.concat(data_all)\n",
    "data_all_R = pd.concat(data_all_R)\n",
    "data_all.to_csv(f'{FILE_DIR}5+10_Branch information.csv', index=False)\n",
    "data_all_R.to_csv(f'{FILE_DIR}5+10_Results.csv', index=False)"
   ]
  },
  {
   "cell_type": "code",
   "execution_count": 10,
   "metadata": {},
   "outputs": [],
   "source": [
    "data_all = []\n",
    "data_all_R = []\n",
    "for i in range(len(file_list_II)):\n",
    "    data =  pd.read_csv(file_list_II[i])\n",
    "    data_R =  pd.read_csv(file_R_list_II[i])\n",
    "    data_all.append(data)\n",
    "    data_all_R.append(data_R)\n",
    "\n",
    "data_all = pd.concat(data_all)\n",
    "data_all_R = pd.concat(data_all_R)\n",
    "data_all.to_csv(f'{FILE_DIR}30+10_Branch information.csv', index=False)\n",
    "data_all_R.to_csv(f'{FILE_DIR}30+10_Results.csv', index=False)"
   ]
  }
 ],
 "metadata": {
  "kernelspec": {
   "display_name": "Python 3",
   "language": "python",
   "name": "python3"
  },
  "language_info": {
   "codemirror_mode": {
    "name": "ipython",
    "version": 3
   },
   "file_extension": ".py",
   "mimetype": "text/x-python",
   "name": "python",
   "nbconvert_exporter": "python",
   "pygments_lexer": "ipython3",
   "version": "3.7.0"
  },
  "orig_nbformat": 4
 },
 "nbformat": 4,
 "nbformat_minor": 2
}
